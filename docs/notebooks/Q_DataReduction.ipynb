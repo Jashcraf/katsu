{
 "cells": [
  {
   "cell_type": "markdown",
   "metadata": {},
   "source": [
    "# Building the polarimetric data reduction from Q Tutorial\n",
    "_written by William Melby_\n",
    "\n",
    "A traditional dual-rotating retarder polarimeter (DRRP) works by generating different polarization states and measuring a linearly polarized output state (for more information, see FullMuellerExample.ipynb). This is an effective and widely used technique that gives information on the entire Mueller matrix of a sample. However, there is a way to get the same result using a slightly more robust method that uses measurements of the Q Stokes parameter.\n",
    "\n",
    "Q is defined as the difference between the horizontal and vertical polarizations. As opposed to measuring a single linear polarization, this measurement takes information from a greater sampling of polarization states and is therefore more thorough. This measurement can be made using a Wollaston prism, which conveniently splits light into two beams with orthogonal polarization. In a traditional DRRP configuration, the last linear polarizer in the polarization state analyzer (PSA) can be replaced with a Wollaston prism to allow for Q sampling. \n",
    "\n",
    "The data taking steps for a Q-measurement system are exactly the same as for a standard DRRP, but the data reduction process is slightly different. By using a Wollaston prism, we get a direct sampling of Q or alternatively the total intensity by subtracting or adding the two orthogonal beams. However, this measurement doesn't change the polarization state for our purposes, so the Wollaston can be removed from the PSA model. The Mueller matrix representation for the system looks like:"
   ]
  },
  {
   "cell_type": "markdown",
   "metadata": {},
   "source": [
    "$$\\textbf{Q}_{meas} = [0, 1, 0, 0] * [\\textbf{PSA}] * \\textbf{M}_{sample} * [\\textbf{PSG}] * \\textbf{S}_{in}$$"
   ]
  },
  {
   "cell_type": "markdown",
   "metadata": {
    "vscode": {
     "languageId": "plaintext"
    }
   },
   "source": [
    "where the PSG is the same as before but the PSA is just the Mueller matrix for a quarter-wave plate. \n",
    "\n",
    "From here, the data reduction process requires a combination of inputs from Q and the total intensity, I. If we only use one, we lose information about certain parts of the Mueller matrix. Specifically, measurements of I are accurate for the first row of the matrix and measurements of Q are good for the last three rows, so we use this combination of inputs to reconstruct the entire matrix. Thanfully, both Q and I can be found from a single set of images, so this additional requirement simplifies to just an additional data reduction calculation. Let's see how effective this is with a simulated matrix."
   ]
  },
  {
   "cell_type": "code",
   "execution_count": 1,
   "metadata": {},
   "outputs": [],
   "source": [
    "import numpy as np\n",
    "import os\n",
    "os.chdir(\"../../\")\n",
    "os.getcwd()\n",
    "from katsu.polarimetry import *"
   ]
  },
  {
   "cell_type": "code",
   "execution_count": 27,
   "metadata": {},
   "outputs": [
    {
     "name": "stdout",
     "output_type": "stream",
     "text": [
      "[[ 0.12404759 -0.12263503  0.78603155 -0.54467126]\n",
      " [-0.09403614  0.58496692 -0.46455959  0.68697291]\n",
      " [-0.2826668  -0.36190585 -0.63223294 -0.01585697]\n",
      " [-0.94347673  0.93858152  0.483513   -0.92810663]]\n"
     ]
    }
   ],
   "source": [
    "M_rand = np.random.uniform(-1, 1, (4, 4))\n",
    "print(M_rand)"
   ]
  },
  {
   "cell_type": "code",
   "execution_count": 3,
   "metadata": {},
   "outputs": [],
   "source": [
    "theta = np.linspace(0, np.pi, 37) # angles at which the first quarter-wave plate will be rotated"
   ]
  },
  {
   "cell_type": "markdown",
   "metadata": {},
   "source": [
    "Given this matrix and angles, let's simulate what the data would look like using a Wollaston prism to create two orthogonal polarizations. We will have two arrays, one for the vertical polarization and one for the horizontal, where each value corresponds to a measurment at a different angle. These arrays will be inputs for the data reduction functions that add and subtract them to find Q and the total I."
   ]
  },
  {
   "cell_type": "code",
   "execution_count": 49,
   "metadata": {},
   "outputs": [],
   "source": [
    "# # Lets simulate what the data would look like using this matrix, assuming no offsets in the other components\n",
    "# hor_sim = np.array(single_output_simulation_function(theta, 0, 0, 0, 0, 0, 0, 0, M_rand)) # double check this\n",
    "# vert_sim = np.array(single_output_simulation_function(theta, 0, 0, 0, 0, 0, 0, np.pi/2, M_rand))"
   ]
  },
  {
   "cell_type": "code",
   "execution_count": 61,
   "metadata": {},
   "outputs": [
    {
     "name": "stdout",
     "output_type": "stream",
     "text": [
      "[[ 0.12404759 -0.12263503  0.78603155 -0.54467126]\n",
      " [-0.09403614  0.58496692 -0.46455959  0.68697291]\n",
      " [-0.2826668  -0.36190585 -0.63223294 -0.01585697]\n",
      " [-0.94347673  0.93858152  0.483513   -0.92810663]]\n"
     ]
    }
   ],
   "source": [
    "# Now feed this data into a data reduction function to see how well the matrix correlates\n",
    "M = q_calibrated_full_mueller_polarimetry(theta, 0, 0, 0, 0, 0, 2, 2, M_rand)\n",
    "print(M)"
   ]
  },
  {
   "cell_type": "code",
   "execution_count": null,
   "metadata": {},
   "outputs": [],
   "source": []
  }
 ],
 "metadata": {
  "kernelspec": {
   "display_name": "base",
   "language": "python",
   "name": "python3"
  },
  "language_info": {
   "codemirror_mode": {
    "name": "ipython",
    "version": 3
   },
   "file_extension": ".py",
   "mimetype": "text/x-python",
   "name": "python",
   "nbconvert_exporter": "python",
   "pygments_lexer": "ipython3",
   "version": "3.9.12"
  }
 },
 "nbformat": 4,
 "nbformat_minor": 2
}
