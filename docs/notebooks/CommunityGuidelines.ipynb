{
 "cells": [
  {
   "cell_type": "markdown",
   "metadata": {},
   "source": [
    "# Contributing\n",
    "\n",
    "If you wish to contribute to Katsu, or have any questions about its use, please open an issue to start a discussion. Before a pull request is made, we prefer that an issue is made to discuss the contributions at a high level.\n",
    "\n",
    "# Code of Conduct\n",
    "\n",
    "In the interest of fostering an open and welcoming environment, we as contributors and maintainers pledge to making participation in our project and our community a harassment-free experience for everyone, regardless of age, body size, disability, ethnicity, sex characteristics, gender identity and expression, level of experience, education, socio-economic status, nationality, personal appearance, race, religion, or sexual identity and orientation.\n",
    "\n",
    "Examples of behavior that contributes to creating a positive environment include:\n",
    "\n",
    "- Using welcoming and inclusive language\n",
    "- Being respectful of differing viewpoints and experiences\n",
    "- Gracefully accepting constructive criticism\n",
    "- Attempting collaboration before conflict\n",
    "- Focusing on what is best for the community\n",
    "- Showing empathy towards other community members\n",
    "\n",
    "Examples of unacceptable behavior by participants include:\n",
    "\n",
    "- Violence, threats of violence, or inciting others to commit self-harm\n",
    "- The use of sexualized language or imagery and unwelcome sexual attention or advances\n",
    "- Trolling, intentionally spreading misinformation, insulting/derogatory comments, and personal or political attacks\n",
    "- Public or private harassment\n",
    "- Publishing others' private information, such as a physical or electronic address, without explicit permission\n",
    "- Abuse of the reporting process to intentionally harass or exclude others\n",
    "- Advocating for, or encouraging, any of the above behavior\n",
    "- Other conduct which could reasonably be considered inappropriate in a professional setting\n",
    "\n",
    "Project maintainers are responsible for clarifying the standards of acceptable behavior and are expected to take appropriate and fair corrective action in response to any instances of unacceptable behavior. \n",
    "\n",
    "**If you wish to report unacceptable behavior or a violation of the code of conduct, please email jarenashcraft@ucsb.edu. The message will only be shared with Katsu's maintainer, Jaren Ashcraft.**\n",
    "\n",
    "Violations of the code of conduct are under a two strike policy\n",
    "1. First violation will result in the issuing of a warning to those who vilate the code of conduct, and a reminder to review the code of conduct\n",
    "2. Second violation will result in being blocked from the Katsu repository\n",
    "\n",
    "## Attribution\n",
    "This Code of Conduct is adapted from the Contributor Covenant, version 1.4.\n",
    "\n",
    "\n"
   ]
  },
  {
   "cell_type": "markdown",
   "metadata": {},
   "source": []
  }
 ],
 "metadata": {
  "language_info": {
   "name": "python"
  }
 },
 "nbformat": 4,
 "nbformat_minor": 2
}
