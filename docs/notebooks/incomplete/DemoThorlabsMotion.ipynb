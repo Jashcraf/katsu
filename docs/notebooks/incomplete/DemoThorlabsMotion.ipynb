{
 "cells": [
  {
   "cell_type": "code",
   "execution_count": null,
   "metadata": {
    "vscode": {
     "languageId": "plaintext"
    },
    "raw_mimetype": "text/restructuredtext"
   },
   "outputs": [],
   "source": [
    ":orphan:"
   ]
  },
  {
   "cell_type": "markdown",
   "metadata": {},
   "source": [
    "# Motion control with the [Thorlabs K10CR1 Stepper Motor Rotation Mount](https://www.thorlabs.com/newgrouppage9.cfm?objectgroup_id=8750)\n",
    "_written by William Melby_\n",
    "\n",
    "In addition to the Agilis rotation stage, ther are a number of motorized rotation stages that are convenient for accurate polarimetry. For example, the Thorlabs motorized rotation mount is an appealing option for 1\" optics. This device can be controlled via a USB connection to a computer using the Thorlabs [Kinesis](https://www.thorlabs.com/newgrouppage9.cfm?objectgroup_id=10285) Software or custom programs. Here we present an example of how one or more motors can be interfaced with via Python."
   ]
  },
  {
   "cell_type": "markdown",
   "metadata": {},
   "source": [
    "A number of useful functions can be found in the Python library pylablib. These can be imported as:\n",
    "```python\n",
    "from pylablib.devices import Thorlabs\n",
    "```"
   ]
  },
  {
   "cell_type": "markdown",
   "metadata": {},
   "source": [
    "Once the devices are connected, each device has a unique serial number that can be viewed or commanded. For example, connecting to two devices might look like: \n",
    "```python\n",
    "stage1 = Thorlabs.KinesisMotor(Thorlabs.list_kinesis_devices()[0][0],scale='stage')\n",
    "stage2 = Thorlabs.KinesisMotor(Thorlabs.list_kinesis_devices()[1][0], scale='stage')\n",
    "```"
   ]
  },
  {
   "cell_type": "markdown",
   "metadata": {},
   "source": [
    "Before sending further commands, it's useful to home the devices. This seems to work best through the Kinesis app, which has a button for identifying and homing each device. Note that the device can't be controlled via Python while the Kinesis app is open, but it's useful to home the device through the app first, then close it and the device will be calibrated for subsequent uses without needing to home again. "
   ]
  },
  {
   "cell_type": "markdown",
   "metadata": {},
   "source": [
    "```python\n",
    "stage1.move_to(0) # The zero degree reference angle is easiest to set through the Kinesis \"home\" button\n",
    "stage1.wait_move()\n",
    "stage1._setup_homing()\n",
    "home1 = stage1.home(sync=True)\n",
    "```"
   ]
  },
  {
   "cell_type": "markdown",
   "metadata": {},
   "source": [
    "Once the devices are homed, it's easy to get their current position, rotate by an angle, or rotate to a set angle.\n",
    "```python\n",
    "position1 = stage1.get_position()\n",
    "angle = 5 # degrees\n",
    "stage1.move_by(angle)\n",
    "stage1.wait_move() # ensures the previous command finishes before interrupting with a new motion. Rotation speeds can also be changed if desired\n",
    "stage1.move_to(angle)\n",
    "```"
   ]
  },
  {
   "cell_type": "markdown",
   "metadata": {},
   "source": [
    "A full list of commands can be found at: https://pylablib.readthedocs.io/en/stable/.apidoc/pylablib.devices.Thorlabs.html "
   ]
  }
 ],
 "metadata": {
  "language_info": {
   "name": "python"
  }
 },
 "nbformat": 4,
 "nbformat_minor": 2
}
