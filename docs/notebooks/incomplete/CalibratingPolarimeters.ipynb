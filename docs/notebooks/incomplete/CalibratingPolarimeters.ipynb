{
 "cells": [
  {
   "cell_type": "markdown",
   "metadata": {},
   "source": [
    "# Calibrating Mueller Polarimeters - Simulation\n",
    "\n",
    "In this tutorial we will review how `katsu` can be used to perform the calibration of DRRPs. Generally this technique is somewhat model-based, because it requires the construction of a polarization data reduction matrix $\\mathbf{W}$ from models of our polarization state generator and analyzer.\n",
    "\n",
    "But, what if you don't know their exact state? \n",
    "\n",
    "It's common to use commercial off-the-shelf components for our waveplates and polarizers, but the retardence and diattenuation are not guarenteed for these"
   ]
  },
  {
   "cell_type": "code",
   "execution_count": 12,
   "metadata": {},
   "outputs": [],
   "source": [
    "import numpy as np\n",
    "\n",
    "from katsu.mueller import (\n",
    "    linear_polarizer,\n",
    "    linear_retarder,\n",
    "    linear_diattenuator\n",
    ")\n",
    "\n",
    "from katsu.polarimetry import broadcasted_full_mueller_polarimetry"
   ]
  },
  {
   "cell_type": "code",
   "execution_count": 7,
   "metadata": {},
   "outputs": [],
   "source": [
    "guess_pol_params = [0, # psgpol angle\n",
    "                    np.pi/2, # psa angle\n",
    "                    0, # psgret angle\n",
    "                    0, # psaret angle\n",
    "                    np.pi/2, # psgret retardance\n",
    "                    np.pi/2] # psaret retardance\n",
    "true_pol_params = [p + np.random.random()/10 for p in guess_pol_params]"
   ]
  },
  {
   "cell_type": "code",
   "execution_count": null,
   "metadata": {},
   "outputs": [],
   "source": []
  },
  {
   "cell_type": "code",
   "execution_count": 8,
   "metadata": {},
   "outputs": [],
   "source": [
    "def m_fwd(a):\n",
    "\n",
    "    polang1, polang2, retang1, retang2, ret1, ret2 = a[0], a[1], a[2], a[3], a[4], a[5]\n",
    "\n",
    "    \n",
    "\n",
    "    return (I - true_I)**2"
   ]
  },
  {
   "cell_type": "code",
   "execution_count": 9,
   "metadata": {},
   "outputs": [
    {
     "name": "stdout",
     "output_type": "stream",
     "text": [
      "  message: CONVERGENCE: NORM_OF_PROJECTED_GRADIENT_<=_PGTOL\n",
      "  success: True\n",
      "   status: 0\n",
      "      fun: 4.7678044542371367e-14\n",
      "        x: [ 5.408e-01  1.035e-01  5.786e-01  6.867e-01  1.050e-02\n",
      "             6.440e-01]\n",
      "      nit: 4\n",
      "      jac: [-1.269e-07  1.741e-07 -1.270e-09 -4.341e-08 -4.594e-09\n",
      "            -1.737e-08]\n",
      "     nfev: 42\n",
      "     njev: 6\n",
      " hess_inv: <6x6 LbfgsInvHessProduct with dtype=float64>\n"
     ]
    }
   ],
   "source": [
    "from scipy.optimize import minimize\n",
    "results = minimize(m_fwd,x0=guess_pol_params,method='L-BFGS-B')\n",
    "print(results)"
   ]
  },
  {
   "cell_type": "code",
   "execution_count": 11,
   "metadata": {},
   "outputs": [
    {
     "name": "stdout",
     "output_type": "stream",
     "text": [
      "[0.525556233612956, 0.1242341545076937, 0.5783983696215821, 0.6813338883135133, 0.00985510712712001, 0.6418720464960674]\n"
     ]
    },
    {
     "data": {
      "text/plain": [
       "array([0.5408466 , 0.10346372, 0.57855067, 0.68666164, 0.01050236,\n",
       "       0.64404705])"
      ]
     },
     "execution_count": 11,
     "metadata": {},
     "output_type": "execute_result"
    }
   ],
   "source": [
    "print(pol_params)\n",
    "results.x"
   ]
  },
  {
   "cell_type": "code",
   "execution_count": 15,
   "metadata": {},
   "outputs": [
    {
     "data": {
      "text/plain": [
       "0.15707963267948966"
      ]
     },
     "execution_count": 15,
     "metadata": {},
     "output_type": "execute_result"
    }
   ],
   "source": []
  },
  {
   "cell_type": "code",
   "execution_count": null,
   "metadata": {},
   "outputs": [],
   "source": []
  }
 ],
 "metadata": {
  "kernelspec": {
   "display_name": "Python 3",
   "language": "python",
   "name": "python3"
  },
  "language_info": {
   "codemirror_mode": {
    "name": "ipython",
    "version": 3
   },
   "file_extension": ".py",
   "mimetype": "text/x-python",
   "name": "python",
   "nbconvert_exporter": "python",
   "pygments_lexer": "ipython3",
   "version": "3.11.5"
  }
 },
 "nbformat": 4,
 "nbformat_minor": 2
}
