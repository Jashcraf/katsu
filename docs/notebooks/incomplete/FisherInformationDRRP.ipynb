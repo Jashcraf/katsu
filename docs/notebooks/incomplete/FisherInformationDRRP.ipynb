{
 "cells": [
  {
   "cell_type": "code",
   "execution_count": null,
   "metadata": {
    "vscode": {
     "languageId": "plaintext"
    },
    "raw_mimetype": "text/restructuredtext"
   },
   "outputs": [],
   "source": [
    ":orphan:"
   ]
  },
  {
   "cell_type": "code",
   "execution_count": 100,
   "metadata": {},
   "outputs": [],
   "source": [
    "import numpy as tnp\n",
    "import matplotlib.pyplot as plt\n",
    "import dLux as dl\n",
    "import dLux.layers as dll\n",
    "import jax.random as jr\n",
    "from jax import jacrev, hessian, random\n",
    "from jax.scipy.stats import norm\n",
    "\n",
    "# The Katsu Stuff\n",
    "from katsu.katsu_math import set_backend_to_jax\n",
    "set_backend_to_jax()\n",
    "from katsu.katsu_math import (\n",
    "    np,\n",
    "    broadcast_kron,\n",
    "    condition_number\n",
    ")\n",
    "from katsu.mueller import(\n",
    "    linear_diattenuator,\n",
    "    linear_retarder\n",
    ")\n",
    "\n",
    "det_npix = 32"
   ]
  },
  {
   "cell_type": "markdown",
   "metadata": {},
   "source": [
    "# Dual Rotating Retarder Polarimetry with Fisher Information\n",
    "\n",
    "## 1. Review of Bayesian Experimental Design\n",
    "\n",
    "Consider a polarimeter parameterized by a vector $\\mathbf{\\theta}$ of independent parameters that generates some data $d$. To solve the inverse problem, you want to infer $\\mathbf{\\theta}$ from $d$ (and any prior information). Using Bayes' rule, we can _update_ our prior knowledge of our parameters $\\mathbf{\\theta}$ conditioned on our prior knowledge $I$ given the data $d$.\n",
    "\n",
    "$$ p(\\mathbf{\\theta} | d, I) = \\frac{p(d|\\mathbf{\\theta},I) \\cdot p(\\mathbf{\\theta | I})}{p(d | I)} $$\n",
    "\n",
    "In other words, our posterior (updated) probability is equal to the likelihood of our data given our parameters, multiplied by the probability of our parameters given our prior knowledge, divided by the probability of our data given our prior information. \n",
    "\n",
    "Bayes' rule can be equivalently expressed in logarithmic units, as shwon below\n",
    "\n",
    "$$logp(\\mathbf{\\theta} | d, I) = \\mathcal{L}(d|\\mathbf{\\theta},I) + \\Pi (\\mathbf{\\theta | I}) - log Z $$\n",
    "\n",
    "If the log-likelihood is approximated as a multivariate normal (Laplace's method), then we can derive a relation that proves the Hessian of $\\mathcal{L}$ to be the Fisher Information Matrix $\\mathbf{F}$. The parameter covariance is then the negative inverse of the Fisher Information.\n",
    "\n",
    "$$\\mathbf{C} = -\\mathbf{F}^{-1}$$\n",
    "\n",
    "Which describes the best-fit multivariate normal to the behavior of a likelihood distribution near the peak. The Fisher Information Matrix has a couple of convenient properties:\n",
    "- Fisher matrices for two independent experiments add\n",
    "- Parameter marginalization happens through matrix inversion of $\\mathbf{F}$, row and column $i$ can be revomed to remove their contribution to the covariance matrix.\n",
    "- The covariance matrix of a model $f$ with parameters $\\mathbf{\\theta}$ calculated using the observation produced by that model given the parameters is the Cramer-Row-Lower Bound, which describes the information theoretical limit of performance of any given model.\n",
    "\n",
    "## 2. Determination of a Likelihood Function\n",
    "\n",
    "In photon-saturated cases it is sufficient to state that we are photon noise limited. However, for the Dual-rotating retarder polarimeter we may experience a condition where the polarization state of the generator and analyzer are nearly orthogonal, where we will then be limited by the noise of the detector. Our noise funciton $\\mathcal{N}$ will then be a function of both the number of incident photons and the detector dark current.\n",
    "\n",
    "We assume an ability to \n",
    "Below we add the `add_camera_noise` function which simulates these noise sources, which will let us expose our result"
   ]
  },
  {
   "cell_type": "code",
   "execution_count": 130,
   "metadata": {},
   "outputs": [],
   "source": [
    "def add_camera_noise(Nphotons, qe=0.69, dark_current=2.29, bitdepth=12, seed=random.key(42)):\n",
    "    \"\"\"Simulate a camera exposure\n",
    "\n",
    "    function from http://kmdouglass.github.io/posts/modeling-noise-for-image-simulations/\n",
    "    with modifications to support Jax behavior\n",
    "\n",
    "    Parameters\n",
    "    ----------\n",
    "    Nphotons : int\n",
    "        number of photons incident on a camera pixel\n",
    "    qe : float, optional\n",
    "        electrons per photon, by default 0.69\n",
    "    dark_current : float, optional\n",
    "        standard deviation of electrons, by default 2.29\n",
    "    bitdepth : int, optional\n",
    "        number of bits detector can resolve, by default 12\n",
    "    seed : np.random.RandomState, optional\n",
    "        random seed for simulation, by default np.random.RandomState(seed=42)\n",
    "    \"\"\"\n",
    "    # photon noise\n",
    "    photons = random.poisson(seed, Nphotons)\n",
    "\n",
    "    # convert to electrons\n",
    "    electrons = qe * photons\n",
    "\n",
    "    # dark current\n",
    "    electrons_out = random.normal(seed)/1e3 + electrons\n",
    "\n",
    "    # ADU\n",
    "    max_adu = int(2**bitdepth - 1)\n",
    "    adu = (electrons_out).astype(int)\n",
    "    adu = adu.at[adu > max_adu].set(max_adu)\n",
    "\n",
    "    return adu"
   ]
  },
  {
   "cell_type": "markdown",
   "metadata": {},
   "source": [
    "Here $I$ is Stokes intensity parameter, not prior\n",
    "\n",
    "$P(I) \\rightarrow$ PDF of photons emitted\n",
    "\n",
    "$P(I'|\\mathbf{\\theta}) \\rightarrow$ PDF of detected photo-electrons\n",
    "\n",
    "$P(I'|\\mathbf{\\theta}) = \\mathbf{M}(\\mathbf{\\theta}) p(I)$\n",
    "\n",
    "$N(T) \\rightarrow$ PDF of detector noise\n",
    "\n",
    "$p(e^{-}|\\mathbf{\\theta}) = P(I') + N(T) \\rightarrow$ PDF of detecting an electron given the parameter vector $\\mathbf{\\theta}$, i.e. the likelihood\n",
    "\n",
    "$log(p(e^{-}|\\mathbf{\\theta})) = log(P(I') + N(T)) \\rightarrow$ Log-likelihood\n"
   ]
  },
  {
   "cell_type": "markdown",
   "metadata": {},
   "source": [
    "## 3. Forward Model of a DRRP Measurement\n",
    "Next we need our forward model which takes our input parameters and returns some model prediction, i.e.\n",
    "$$f(\\mathbf{\\theta}) \\rightarrow P_{predict}$$\n",
    "\n",
    "In the example below, the parameters ($\\mathbf{\\theta}$) of our model are:\n",
    "- Number of measurements\n",
    "- Angular rotation increment of PSG Retarder\n",
    "- Retardance of PSG Retarder\n",
    "- Angular rotation increment of PSA Retarder\n",
    "- Retardance of PSA Retarder\n",
    "- Fixed angle of PSG polarizer\n",
    "- Fixed angle of PSA polarizer"
   ]
  },
  {
   "cell_type": "code",
   "execution_count": 131,
   "metadata": {},
   "outputs": [],
   "source": [
    "def fwd_drrp(x):\n",
    "    \"\"\"Forward model that returns condition number of data reduction matrix\n",
    "\n",
    "    Parameters\n",
    "    ----------\n",
    "    x : list or 1D array\n",
    "        coefficient vector\n",
    "    \"\"\"\n",
    "\n",
    "    # Load elements from coefficient vector\n",
    "    Nmeas = int(x[0])\n",
    "    th_g = x[1]\n",
    "    ret_g = x[2]\n",
    "    th_a = x[3]\n",
    "    ret_a = x[4]\n",
    "    th_pol_g = x[5]\n",
    "    th_pol_a = x[6]\n",
    "\n",
    "    psg_angular_steps = np.linspace(0, Nmeas * th_g, Nmeas)\n",
    "    psa_angular_steps = np.linspace(0, Nmeas * th_a, Nmeas)\n",
    "\n",
    "    # set up DRRP, assume ideal polarizer\n",
    "    psg_pol = linear_diattenuator(th_pol_g, 0, shape=[det_npix, det_npix, Nmeas])\n",
    "    psg_wvp = linear_retarder(psg_angular_steps, ret_g, shape=[det_npix, det_npix, Nmeas])\n",
    "\n",
    "    psa_wvp = linear_retarder(psa_angular_steps, ret_a, shape=[det_npix, det_npix, Nmeas])\n",
    "    psa_pol = linear_diattenuator(th_pol_a, 0, shape=[det_npix, det_npix, Nmeas])\n",
    "\n",
    "    Mg = psg_wvp @ psg_pol\n",
    "    Ma = psa_pol @ psa_wvp\n",
    "\n",
    "    PSA = Ma[..., 0, :]\n",
    "    PSG = Mg[..., :, 0]\n",
    "\n",
    "    # polarimetric data reduction matrix, flatten Mueller matrix dimension\n",
    "    Wmat = broadcast_kron(PSA[..., np.newaxis], PSG[..., np.newaxis])\n",
    "    Wmat = Wmat.reshape([*Wmat.shape[:-2], 16])\n",
    "    Winv = np.linalg.pinv(Wmat)\n",
    "    Mtot = Ma @ Mg\n",
    "\n",
    "    return Mtot[..., 0, 0] * 1"
   ]
  },
  {
   "cell_type": "code",
   "execution_count": 132,
   "metadata": {},
   "outputs": [],
   "source": [
    "Nmeas = 40.\n",
    "th_g = np.radians(10.)\n",
    "ret_g = 2 * np.pi / 3\n",
    "th_a = np.radians(25.)\n",
    "ret_a = 2 * np.pi / 3\n",
    "th_pol_g = 0.\n",
    "th_pol_a = np.pi / 2\n",
    "\n",
    "x0 = [Nmeas, th_g, ret_g, th_a, ret_a, th_pol_g, th_pol_a] \n",
    "power = fwd_drrp(x0)\n",
    "power = np.moveaxis(power, -1, 0)"
   ]
  },
  {
   "cell_type": "code",
   "execution_count": 141,
   "metadata": {},
   "outputs": [],
   "source": [
    "N_EXPOSURES = 5\n",
    "power_scale = 10\n",
    "data = []\n",
    "error = []\n",
    "\n",
    "for p in power:\n",
    "\n",
    "    noisy_frames = []\n",
    "\n",
    "    # expose the frame N = 5 times\n",
    "    for i in range(N_EXPOSURES):\n",
    "        noisy_frames.append(add_camera_noise(p * power_scale))\n",
    "\n",
    "    data.append(np.mean(np.asarray(noisy_frames), axis=0))\n",
    "    error.append(np.std(np.asarray(noisy_frames), axis=0))"
   ]
  },
  {
   "cell_type": "code",
   "execution_count": null,
   "metadata": {},
   "outputs": [],
   "source": []
  },
  {
   "cell_type": "markdown",
   "metadata": {},
   "source": []
  },
  {
   "cell_type": "markdown",
   "metadata": {},
   "source": [
    "# Using dLux for Noise Simulation\n",
    "\n",
    "Just a simple noisy detector, looks like we get to suppy our own pixel response so that's cool"
   ]
  },
  {
   "cell_type": "code",
   "execution_count": 149,
   "metadata": {},
   "outputs": [],
   "source": [
    "det_npix = 32\n",
    "pix_response = 1 + 0.05*jr.normal(jr.PRNGKey(0), [det_npix, det_npix]) + jr.poisson(jr.PRNGKey(0), lam=1)\n",
    "detector = dl.LayeredDetector([dll.ApplyPixelResponse(pix_response)])"
   ]
  },
  {
   "cell_type": "code",
   "execution_count": 150,
   "metadata": {},
   "outputs": [],
   "source": [
    "x = np.linspace(-1, 1, det_npix)\n",
    "x, y = np.meshgrid(x, x)\n",
    "mask = np.zeros_like(x)\n",
    "mask = mask.at[np.sqrt(x**2 + y**2) < 1].set(1.)"
   ]
  },
  {
   "cell_type": "code",
   "execution_count": 156,
   "metadata": {},
   "outputs": [],
   "source": [
    "# update the pix response\n",
    "pix_response = 1 + 0.05*jr.normal(jr.PRNGKey(0), [det_npix, det_npix])\n",
    "detector = dl.LayeredDetector([dll.ApplyPixelResponse(pix_response)])"
   ]
  },
  {
   "cell_type": "code",
   "execution_count": 157,
   "metadata": {},
   "outputs": [
    {
     "data": {
      "image/png": "[encoded data removed]",
      "text/plain": [
       "<Figure size 1000x500 with 4 Axes>"
      ]
     },
     "metadata": {},
     "output_type": "display_data"
    }
   ],
   "source": [
    "cm = 'gray'\n",
    "plt.figure(figsize=[10, 5])\n",
    "plt.subplot(121)\n",
    "plt.title('Before dLux detector layer')\n",
    "plt.imshow(mask, cmap=cm)\n",
    "plt.colorbar()\n",
    "plt.subplot(122)\n",
    "plt.title('After dLux detector layer')\n",
    "plt.imshow(detector.model(mask, return_psf=True), cmap=cm)\n",
    "plt.colorbar()\n",
    "plt.show()"
   ]
  },
  {
   "cell_type": "markdown",
   "metadata": {},
   "source": [
    "# Spatially-resolved polarimetry (with noise)"
   ]
  },
  {
   "cell_type": "code",
   "execution_count": 158,
   "metadata": {},
   "outputs": [],
   "source": [
    "Nmeas = 40.\n",
    "th_g = np.radians(10.)\n",
    "ret_g = np.pi / 2\n",
    "th_a = np.radians(25.)\n",
    "ret_a = np.pi / 2\n",
    "th_pol_g = 0.\n",
    "th_pol_a = np.pi / 2"
   ]
  },
  {
   "cell_type": "code",
   "execution_count": 159,
   "metadata": {},
   "outputs": [],
   "source": [
    "def fwd_drrp(x):\n",
    "    \"\"\"Forward model that returns condition number of data reduction matrix\n",
    "\n",
    "    Parameters\n",
    "    ----------\n",
    "    x : list or 1D array\n",
    "        coefficient vector\n",
    "    \"\"\"\n",
    "\n",
    "    # Load elements from coefficient vector\n",
    "    Nmeas = int(x[0]) # number of measurements\n",
    "    th_g = x[1]       # angular increment of generator retarder\n",
    "    ret_g = x[2]      # retardance of generator retarder\n",
    "    th_a = x[3]       # angular increment of generator retarder\n",
    "    ret_a = x[4]      # retardance of generator retarder\n",
    "    th_pol_g = x[5]   # angular start of generator polarizer\n",
    "    th_pol_a = x[6]   # angular start of analyzer polarizer\n",
    "\n",
    "    # generate angular steps\n",
    "    psg_angular_steps = np.linspace(0, Nmeas * th_g, Nmeas)\n",
    "    psa_angular_steps = np.linspace(0, Nmeas * th_a, Nmeas)\n",
    "\n",
    "    # set up DRRP, assume ideal polarizer\n",
    "    psg_pol = linear_diattenuator(th_pol_g, 0, shape=[det_npix, det_npix, Nmeas])\n",
    "    psg_wvp = linear_retarder(psg_angular_steps, ret_g, shape=[det_npix, det_npix, Nmeas])\n",
    "\n",
    "    psa_wvp = linear_retarder(psa_angular_steps, ret_a, shape=[det_npix, det_npix, Nmeas])\n",
    "    psa_pol = linear_diattenuator(th_pol_a, 0, shape=[det_npix, det_npix, Nmeas])\n",
    "\n",
    "    Mg = psg_wvp @ psg_pol\n",
    "    Ma = psa_pol @ psa_wvp\n",
    "\n",
    "    PSA = Ma[..., 0, :]\n",
    "    PSG = Mg[..., :, 0]\n",
    "\n",
    "    # polarimetric data reduction matrix, flatten Mueller matrix dimension\n",
    "    Wmat = broadcast_kron(PSA[..., np.newaxis], PSG[..., np.newaxis])\n",
    "    Wmat = Wmat.reshape([*Wmat.shape[:-2], 16])\n",
    "    Winv = np.linalg.pinv(Wmat)\n",
    "    Mtot = Ma @ Mg\n",
    "\n",
    "    return Winv, Mtot\n",
    "\n",
    "\n",
    "def fwd_cond(x):\n",
    "\n",
    "    Winv, Mtot = fwd_drrp(x)\n",
    "    \n",
    "    cond = condition_number(Winv)\n",
    "    median_cond = np.median(cond[mask==1])    \n",
    "\n",
    "    return median_cond\n",
    "\n",
    "\n",
    "def fwd_power(x):\n",
    "\n",
    "    Winv, Mtot = fwd_drrp(x)\n",
    "    power = Mtot[..., 0, 0] * mask[..., np.newaxis] # response to S = [1, 0, 0, 0], apply mask\n",
    "    mask_expand = np.broadcast_to(mask[..., np.newaxis], [*mask.shape, int(Nmeas)])\n",
    "    power_med = np.median(power[mask==1], axis=0)\n",
    "\n",
    "    noisy_measure = []\n",
    "    error_measure = []\n",
    "\n",
    "    # expose to a noisy sensor, unsure if dLux broadcasts this calculation\n",
    "    for i in range(int(Nmeas)):\n",
    "\n",
    "        noisy_frame = detector.model(power[..., i], return_psf=True)\n",
    "        diff = noisy_frame - power_med[..., i]\n",
    "\n",
    "        noisy_measure.append(noisy_frame)\n",
    "\n",
    "        error_measure.append(np.var(diff[mask==1]))\n",
    "\n",
    "    # compute error in power metric\n",
    "    error = np.sum(np.asarray(error_measure), axis=0)\n",
    "\n",
    "    return noisy_measure, power\n",
    "\n",
    "rev_cond = jacrev(fwd_cond)\n",
    "rev_power = jacrev(fwd_power)\n"
   ]
  },
  {
   "cell_type": "code",
   "execution_count": 160,
   "metadata": {},
   "outputs": [],
   "source": [
    "x0 = [Nmeas, th_g, ret_g, th_a, ret_a, th_pol_g, th_pol_a]\n",
    "# cond = fwd_cond(x0)\n",
    "# grad = rev_cond(x0)\n",
    "# power = fwd_power(x0)\n",
    "# grad = rev_power(x0)"
   ]
  },
  {
   "cell_type": "markdown",
   "metadata": {},
   "source": [
    "Import log likelihood functions"
   ]
  },
  {
   "cell_type": "code",
   "execution_count": 161,
   "metadata": {},
   "outputs": [],
   "source": [
    "from jax.scipy.stats.norm import logpdf as normal_logpdf\n",
    "from jax.scipy.stats.poisson import logpmf as poisson_logpmf"
   ]
  },
  {
   "cell_type": "code",
   "execution_count": 162,
   "metadata": {},
   "outputs": [],
   "source": [
    "Winv, Mtot = fwd_drrp(x0)\n",
    "N = x0[0]\n",
    "power = Mtot[..., 0, 0] * mask[..., np.newaxis] # response to S = [1, 0, 0, 0], apply mask\n",
    "mask_expand = np.broadcast_to(mask[..., np.newaxis], [*mask.shape, int(Nmeas)])\n",
    "power_med = np.median(power[mask==1], axis=0)\n",
    "\n",
    "noisy_measure = []\n",
    "error_measure = []\n",
    "\n",
    "# expose to a noisy sensor, unsure if dLux broadcasts this calculation\n",
    "for i in range(int(N)):\n",
    "\n",
    "    noisy_frame = detector.model(power[..., i], return_psf=True)\n",
    "    diff = noisy_frame - power_med[..., i]\n",
    "\n",
    "    noisy_measure.append(noisy_frame)\n",
    "\n",
    "    error_measure.append(np.var(diff[mask==1]))\n",
    "\n",
    "# compute error in power metric\n",
    "error = np.sum(np.asarray(error_measure), axis=0)"
   ]
  },
  {
   "cell_type": "code",
   "execution_count": 163,
   "metadata": {},
   "outputs": [
    {
     "data": {
      "text/plain": [
       "<matplotlib.colorbar.Colorbar at 0x3146d5f00>"
      ]
     },
     "execution_count": 163,
     "metadata": {},
     "output_type": "execute_result"
    },
    {
     "data": {
      "image/png": "[encoded data removed]",
      "text/plain": [
       "<Figure size 640x480 with 2 Axes>"
      ]
     },
     "metadata": {},
     "output_type": "display_data"
    }
   ],
   "source": [
    "mean_measure = np.mean(np.asarray(noisy_measure), axis=0)\n",
    "\n",
    "plt.title('Mean Exposure, '+r'$\\sigma^{2}=$'+f'{error:.2e}')\n",
    "plt.imshow(mean_measure, cmap='gray')\n",
    "plt.colorbar()"
   ]
  },
  {
   "cell_type": "code",
   "execution_count": 164,
   "metadata": {},
   "outputs": [],
   "source": [
    "# pass to the Log Likelihood function\n",
    "loglike = normal_logpdf(mean_measure, loc=0, scale=error)"
   ]
  },
  {
   "cell_type": "code",
   "execution_count": 165,
   "metadata": {},
   "outputs": [
    {
     "data": {
      "text/plain": [
       "<matplotlib.colorbar.Colorbar at 0x31479a2f0>"
      ]
     },
     "execution_count": 165,
     "metadata": {},
     "output_type": "execute_result"
    },
    {
     "data": {
      "image/png": "[encoded data removed]",
      "text/plain": [
       "<Figure size 640x480 with 2 Axes>"
      ]
     },
     "metadata": {},
     "output_type": "display_data"
    }
   ],
   "source": [
    "plt.title('Log Likelihood')\n",
    "plt.imshow(loglike * mask)\n",
    "plt.colorbar()"
   ]
  },
  {
   "cell_type": "code",
   "execution_count": 166,
   "metadata": {},
   "outputs": [],
   "source": [
    "FIM = hessian(normal_logpdf)"
   ]
  },
  {
   "cell_type": "code",
   "execution_count": 170,
   "metadata": {},
   "outputs": [],
   "source": [
    "fisher_matrix = FIM(mean_measure[mask==1], scale=error)"
   ]
  },
  {
   "cell_type": "code",
   "execution_count": 172,
   "metadata": {},
   "outputs": [
    {
     "data": {
      "text/plain": [
       "(32, 32)"
      ]
     },
     "execution_count": 172,
     "metadata": {},
     "output_type": "execute_result"
    }
   ],
   "source": []
  },
  {
   "cell_type": "code",
   "execution_count": 171,
   "metadata": {},
   "outputs": [
    {
     "ename": "TypeError",
     "evalue": "Invalid shape (740, 740, 740) for image data",
     "output_type": "error",
     "traceback": [
      "\u001b[0;31m---------------------------------------------------------------------------\u001b[0m",
      "\u001b[0;31mTypeError\u001b[0m                                 Traceback (most recent call last)",
      "Cell \u001b[0;32mIn[171], line 1\u001b[0m\n\u001b[0;32m----> 1\u001b[0m \u001b[43mplt\u001b[49m\u001b[38;5;241;43m.\u001b[39;49m\u001b[43mimshow\u001b[49m\u001b[43m(\u001b[49m\u001b[43mfisher_matrix\u001b[49m\u001b[43m,\u001b[49m\u001b[43m \u001b[49m\u001b[43mcmap\u001b[49m\u001b[38;5;241;43m=\u001b[39;49m\u001b[38;5;124;43m'\u001b[39;49m\u001b[38;5;124;43mRdBu_r\u001b[39;49m\u001b[38;5;124;43m'\u001b[39;49m\u001b[43m)\u001b[49m\n\u001b[1;32m      2\u001b[0m plt\u001b[38;5;241m.\u001b[39mcolorbar()\n\u001b[1;32m      3\u001b[0m plt\u001b[38;5;241m.\u001b[39mshow()\n",
      "File \u001b[0;32m~/anaconda3/envs/jaxenv/lib/python3.10/site-packages/matplotlib/pyplot.py:3562\u001b[0m, in \u001b[0;36mimshow\u001b[0;34m(X, cmap, norm, aspect, interpolation, alpha, vmin, vmax, origin, extent, interpolation_stage, filternorm, filterrad, resample, url, data, **kwargs)\u001b[0m\n\u001b[1;32m   3541\u001b[0m \u001b[38;5;129m@_copy_docstring_and_deprecators\u001b[39m(Axes\u001b[38;5;241m.\u001b[39mimshow)\n\u001b[1;32m   3542\u001b[0m \u001b[38;5;28;01mdef\u001b[39;00m \u001b[38;5;21mimshow\u001b[39m(\n\u001b[1;32m   3543\u001b[0m     X: ArrayLike \u001b[38;5;241m|\u001b[39m PIL\u001b[38;5;241m.\u001b[39mImage\u001b[38;5;241m.\u001b[39mImage,\n\u001b[0;32m   (...)\u001b[0m\n\u001b[1;32m   3560\u001b[0m     \u001b[38;5;241m*\u001b[39m\u001b[38;5;241m*\u001b[39mkwargs,\n\u001b[1;32m   3561\u001b[0m ) \u001b[38;5;241m-\u001b[39m\u001b[38;5;241m>\u001b[39m AxesImage:\n\u001b[0;32m-> 3562\u001b[0m     __ret \u001b[38;5;241m=\u001b[39m \u001b[43mgca\u001b[49m\u001b[43m(\u001b[49m\u001b[43m)\u001b[49m\u001b[38;5;241;43m.\u001b[39;49m\u001b[43mimshow\u001b[49m\u001b[43m(\u001b[49m\n\u001b[1;32m   3563\u001b[0m \u001b[43m        \u001b[49m\u001b[43mX\u001b[49m\u001b[43m,\u001b[49m\n\u001b[1;32m   3564\u001b[0m \u001b[43m        \u001b[49m\u001b[43mcmap\u001b[49m\u001b[38;5;241;43m=\u001b[39;49m\u001b[43mcmap\u001b[49m\u001b[43m,\u001b[49m\n\u001b[1;32m   3565\u001b[0m \u001b[43m        \u001b[49m\u001b[43mnorm\u001b[49m\u001b[38;5;241;43m=\u001b[39;49m\u001b[43mnorm\u001b[49m\u001b[43m,\u001b[49m\n\u001b[1;32m   3566\u001b[0m \u001b[43m        \u001b[49m\u001b[43maspect\u001b[49m\u001b[38;5;241;43m=\u001b[39;49m\u001b[43maspect\u001b[49m\u001b[43m,\u001b[49m\n\u001b[1;32m   3567\u001b[0m \u001b[43m        \u001b[49m\u001b[43minterpolation\u001b[49m\u001b[38;5;241;43m=\u001b[39;49m\u001b[43minterpolation\u001b[49m\u001b[43m,\u001b[49m\n\u001b[1;32m   3568\u001b[0m \u001b[43m        \u001b[49m\u001b[43malpha\u001b[49m\u001b[38;5;241;43m=\u001b[39;49m\u001b[43malpha\u001b[49m\u001b[43m,\u001b[49m\n\u001b[1;32m   3569\u001b[0m \u001b[43m        \u001b[49m\u001b[43mvmin\u001b[49m\u001b[38;5;241;43m=\u001b[39;49m\u001b[43mvmin\u001b[49m\u001b[43m,\u001b[49m\n\u001b[1;32m   3570\u001b[0m \u001b[43m        \u001b[49m\u001b[43mvmax\u001b[49m\u001b[38;5;241;43m=\u001b[39;49m\u001b[43mvmax\u001b[49m\u001b[43m,\u001b[49m\n\u001b[1;32m   3571\u001b[0m \u001b[43m        \u001b[49m\u001b[43morigin\u001b[49m\u001b[38;5;241;43m=\u001b[39;49m\u001b[43morigin\u001b[49m\u001b[43m,\u001b[49m\n\u001b[1;32m   3572\u001b[0m \u001b[43m        \u001b[49m\u001b[43mextent\u001b[49m\u001b[38;5;241;43m=\u001b[39;49m\u001b[43mextent\u001b[49m\u001b[43m,\u001b[49m\n\u001b[1;32m   3573\u001b[0m \u001b[43m        \u001b[49m\u001b[43minterpolation_stage\u001b[49m\u001b[38;5;241;43m=\u001b[39;49m\u001b[43minterpolation_stage\u001b[49m\u001b[43m,\u001b[49m\n\u001b[1;32m   3574\u001b[0m \u001b[43m        \u001b[49m\u001b[43mfilternorm\u001b[49m\u001b[38;5;241;43m=\u001b[39;49m\u001b[43mfilternorm\u001b[49m\u001b[43m,\u001b[49m\n\u001b[1;32m   3575\u001b[0m \u001b[43m        \u001b[49m\u001b[43mfilterrad\u001b[49m\u001b[38;5;241;43m=\u001b[39;49m\u001b[43mfilterrad\u001b[49m\u001b[43m,\u001b[49m\n\u001b[1;32m   3576\u001b[0m \u001b[43m        \u001b[49m\u001b[43mresample\u001b[49m\u001b[38;5;241;43m=\u001b[39;49m\u001b[43mresample\u001b[49m\u001b[43m,\u001b[49m\n\u001b[1;32m   3577\u001b[0m \u001b[43m        \u001b[49m\u001b[43murl\u001b[49m\u001b[38;5;241;43m=\u001b[39;49m\u001b[43murl\u001b[49m\u001b[43m,\u001b[49m\n\u001b[1;32m   3578\u001b[0m \u001b[43m        \u001b[49m\u001b[38;5;241;43m*\u001b[39;49m\u001b[38;5;241;43m*\u001b[39;49m\u001b[43m(\u001b[49m\u001b[43m{\u001b[49m\u001b[38;5;124;43m\"\u001b[39;49m\u001b[38;5;124;43mdata\u001b[39;49m\u001b[38;5;124;43m\"\u001b[39;49m\u001b[43m:\u001b[49m\u001b[43m \u001b[49m\u001b[43mdata\u001b[49m\u001b[43m}\u001b[49m\u001b[43m \u001b[49m\u001b[38;5;28;43;01mif\u001b[39;49;00m\u001b[43m \u001b[49m\u001b[43mdata\u001b[49m\u001b[43m \u001b[49m\u001b[38;5;129;43;01mis\u001b[39;49;00m\u001b[43m \u001b[49m\u001b[38;5;129;43;01mnot\u001b[39;49;00m\u001b[43m \u001b[49m\u001b[38;5;28;43;01mNone\u001b[39;49;00m\u001b[43m \u001b[49m\u001b[38;5;28;43;01melse\u001b[39;49;00m\u001b[43m \u001b[49m\u001b[43m{\u001b[49m\u001b[43m}\u001b[49m\u001b[43m)\u001b[49m\u001b[43m,\u001b[49m\n\u001b[1;32m   3579\u001b[0m \u001b[43m        \u001b[49m\u001b[38;5;241;43m*\u001b[39;49m\u001b[38;5;241;43m*\u001b[39;49m\u001b[43mkwargs\u001b[49m\u001b[43m,\u001b[49m\n\u001b[1;32m   3580\u001b[0m \u001b[43m    \u001b[49m\u001b[43m)\u001b[49m\n\u001b[1;32m   3581\u001b[0m     sci(__ret)\n\u001b[1;32m   3582\u001b[0m     \u001b[38;5;28;01mreturn\u001b[39;00m __ret\n",
      "File \u001b[0;32m~/anaconda3/envs/jaxenv/lib/python3.10/site-packages/matplotlib/__init__.py:1473\u001b[0m, in \u001b[0;36m_preprocess_data.<locals>.inner\u001b[0;34m(ax, data, *args, **kwargs)\u001b[0m\n\u001b[1;32m   1470\u001b[0m \u001b[38;5;129m@functools\u001b[39m\u001b[38;5;241m.\u001b[39mwraps(func)\n\u001b[1;32m   1471\u001b[0m \u001b[38;5;28;01mdef\u001b[39;00m \u001b[38;5;21minner\u001b[39m(ax, \u001b[38;5;241m*\u001b[39margs, data\u001b[38;5;241m=\u001b[39m\u001b[38;5;28;01mNone\u001b[39;00m, \u001b[38;5;241m*\u001b[39m\u001b[38;5;241m*\u001b[39mkwargs):\n\u001b[1;32m   1472\u001b[0m     \u001b[38;5;28;01mif\u001b[39;00m data \u001b[38;5;129;01mis\u001b[39;00m \u001b[38;5;28;01mNone\u001b[39;00m:\n\u001b[0;32m-> 1473\u001b[0m         \u001b[38;5;28;01mreturn\u001b[39;00m \u001b[43mfunc\u001b[49m\u001b[43m(\u001b[49m\n\u001b[1;32m   1474\u001b[0m \u001b[43m            \u001b[49m\u001b[43max\u001b[49m\u001b[43m,\u001b[49m\n\u001b[1;32m   1475\u001b[0m \u001b[43m            \u001b[49m\u001b[38;5;241;43m*\u001b[39;49m\u001b[38;5;28;43mmap\u001b[39;49m\u001b[43m(\u001b[49m\u001b[43msanitize_sequence\u001b[49m\u001b[43m,\u001b[49m\u001b[43m \u001b[49m\u001b[43margs\u001b[49m\u001b[43m)\u001b[49m\u001b[43m,\u001b[49m\n\u001b[1;32m   1476\u001b[0m \u001b[43m            \u001b[49m\u001b[38;5;241;43m*\u001b[39;49m\u001b[38;5;241;43m*\u001b[39;49m\u001b[43m{\u001b[49m\u001b[43mk\u001b[49m\u001b[43m:\u001b[49m\u001b[43m \u001b[49m\u001b[43msanitize_sequence\u001b[49m\u001b[43m(\u001b[49m\u001b[43mv\u001b[49m\u001b[43m)\u001b[49m\u001b[43m \u001b[49m\u001b[38;5;28;43;01mfor\u001b[39;49;00m\u001b[43m \u001b[49m\u001b[43mk\u001b[49m\u001b[43m,\u001b[49m\u001b[43m \u001b[49m\u001b[43mv\u001b[49m\u001b[43m \u001b[49m\u001b[38;5;129;43;01min\u001b[39;49;00m\u001b[43m \u001b[49m\u001b[43mkwargs\u001b[49m\u001b[38;5;241;43m.\u001b[39;49m\u001b[43mitems\u001b[49m\u001b[43m(\u001b[49m\u001b[43m)\u001b[49m\u001b[43m}\u001b[49m\u001b[43m)\u001b[49m\n\u001b[1;32m   1478\u001b[0m     bound \u001b[38;5;241m=\u001b[39m new_sig\u001b[38;5;241m.\u001b[39mbind(ax, \u001b[38;5;241m*\u001b[39margs, \u001b[38;5;241m*\u001b[39m\u001b[38;5;241m*\u001b[39mkwargs)\n\u001b[1;32m   1479\u001b[0m     auto_label \u001b[38;5;241m=\u001b[39m (bound\u001b[38;5;241m.\u001b[39marguments\u001b[38;5;241m.\u001b[39mget(label_namer)\n\u001b[1;32m   1480\u001b[0m                   \u001b[38;5;129;01mor\u001b[39;00m bound\u001b[38;5;241m.\u001b[39mkwargs\u001b[38;5;241m.\u001b[39mget(label_namer))\n",
      "File \u001b[0;32m~/anaconda3/envs/jaxenv/lib/python3.10/site-packages/matplotlib/axes/_axes.py:5895\u001b[0m, in \u001b[0;36mAxes.imshow\u001b[0;34m(self, X, cmap, norm, aspect, interpolation, alpha, vmin, vmax, origin, extent, interpolation_stage, filternorm, filterrad, resample, url, **kwargs)\u001b[0m\n\u001b[1;32m   5892\u001b[0m \u001b[38;5;28;01mif\u001b[39;00m aspect \u001b[38;5;129;01mis\u001b[39;00m \u001b[38;5;129;01mnot\u001b[39;00m \u001b[38;5;28;01mNone\u001b[39;00m:\n\u001b[1;32m   5893\u001b[0m     \u001b[38;5;28mself\u001b[39m\u001b[38;5;241m.\u001b[39mset_aspect(aspect)\n\u001b[0;32m-> 5895\u001b[0m \u001b[43mim\u001b[49m\u001b[38;5;241;43m.\u001b[39;49m\u001b[43mset_data\u001b[49m\u001b[43m(\u001b[49m\u001b[43mX\u001b[49m\u001b[43m)\u001b[49m\n\u001b[1;32m   5896\u001b[0m im\u001b[38;5;241m.\u001b[39mset_alpha(alpha)\n\u001b[1;32m   5897\u001b[0m \u001b[38;5;28;01mif\u001b[39;00m im\u001b[38;5;241m.\u001b[39mget_clip_path() \u001b[38;5;129;01mis\u001b[39;00m \u001b[38;5;28;01mNone\u001b[39;00m:\n\u001b[1;32m   5898\u001b[0m     \u001b[38;5;66;03m# image does not already have clipping set, clip to Axes patch\u001b[39;00m\n",
      "File \u001b[0;32m~/anaconda3/envs/jaxenv/lib/python3.10/site-packages/matplotlib/image.py:729\u001b[0m, in \u001b[0;36m_ImageBase.set_data\u001b[0;34m(self, A)\u001b[0m\n\u001b[1;32m    727\u001b[0m \u001b[38;5;28;01mif\u001b[39;00m \u001b[38;5;28misinstance\u001b[39m(A, PIL\u001b[38;5;241m.\u001b[39mImage\u001b[38;5;241m.\u001b[39mImage):\n\u001b[1;32m    728\u001b[0m     A \u001b[38;5;241m=\u001b[39m pil_to_array(A)  \u001b[38;5;66;03m# Needed e.g. to apply png palette.\u001b[39;00m\n\u001b[0;32m--> 729\u001b[0m \u001b[38;5;28mself\u001b[39m\u001b[38;5;241m.\u001b[39m_A \u001b[38;5;241m=\u001b[39m \u001b[38;5;28;43mself\u001b[39;49m\u001b[38;5;241;43m.\u001b[39;49m\u001b[43m_normalize_image_array\u001b[49m\u001b[43m(\u001b[49m\u001b[43mA\u001b[49m\u001b[43m)\u001b[49m\n\u001b[1;32m    730\u001b[0m \u001b[38;5;28mself\u001b[39m\u001b[38;5;241m.\u001b[39m_imcache \u001b[38;5;241m=\u001b[39m \u001b[38;5;28;01mNone\u001b[39;00m\n\u001b[1;32m    731\u001b[0m \u001b[38;5;28mself\u001b[39m\u001b[38;5;241m.\u001b[39mstale \u001b[38;5;241m=\u001b[39m \u001b[38;5;28;01mTrue\u001b[39;00m\n",
      "File \u001b[0;32m~/anaconda3/envs/jaxenv/lib/python3.10/site-packages/matplotlib/image.py:697\u001b[0m, in \u001b[0;36m_ImageBase._normalize_image_array\u001b[0;34m(A)\u001b[0m\n\u001b[1;32m    695\u001b[0m     A \u001b[38;5;241m=\u001b[39m A\u001b[38;5;241m.\u001b[39msqueeze(\u001b[38;5;241m-\u001b[39m\u001b[38;5;241m1\u001b[39m)  \u001b[38;5;66;03m# If just (M, N, 1), assume scalar and apply colormap.\u001b[39;00m\n\u001b[1;32m    696\u001b[0m \u001b[38;5;28;01mif\u001b[39;00m \u001b[38;5;129;01mnot\u001b[39;00m (A\u001b[38;5;241m.\u001b[39mndim \u001b[38;5;241m==\u001b[39m \u001b[38;5;241m2\u001b[39m \u001b[38;5;129;01mor\u001b[39;00m A\u001b[38;5;241m.\u001b[39mndim \u001b[38;5;241m==\u001b[39m \u001b[38;5;241m3\u001b[39m \u001b[38;5;129;01mand\u001b[39;00m A\u001b[38;5;241m.\u001b[39mshape[\u001b[38;5;241m-\u001b[39m\u001b[38;5;241m1\u001b[39m] \u001b[38;5;129;01min\u001b[39;00m [\u001b[38;5;241m3\u001b[39m, \u001b[38;5;241m4\u001b[39m]):\n\u001b[0;32m--> 697\u001b[0m     \u001b[38;5;28;01mraise\u001b[39;00m \u001b[38;5;167;01mTypeError\u001b[39;00m(\u001b[38;5;124mf\u001b[39m\u001b[38;5;124m\"\u001b[39m\u001b[38;5;124mInvalid shape \u001b[39m\u001b[38;5;132;01m{\u001b[39;00mA\u001b[38;5;241m.\u001b[39mshape\u001b[38;5;132;01m}\u001b[39;00m\u001b[38;5;124m for image data\u001b[39m\u001b[38;5;124m\"\u001b[39m)\n\u001b[1;32m    698\u001b[0m \u001b[38;5;28;01mif\u001b[39;00m A\u001b[38;5;241m.\u001b[39mndim \u001b[38;5;241m==\u001b[39m \u001b[38;5;241m3\u001b[39m:\n\u001b[1;32m    699\u001b[0m     \u001b[38;5;66;03m# If the input data has values outside the valid range (after\u001b[39;00m\n\u001b[1;32m    700\u001b[0m     \u001b[38;5;66;03m# normalisation), we issue a warning and then clip X to the bounds\u001b[39;00m\n\u001b[1;32m    701\u001b[0m     \u001b[38;5;66;03m# - otherwise casting wraps extreme values, hiding outliers and\u001b[39;00m\n\u001b[1;32m    702\u001b[0m     \u001b[38;5;66;03m# making reliable interpretation impossible.\u001b[39;00m\n\u001b[1;32m    703\u001b[0m     high \u001b[38;5;241m=\u001b[39m \u001b[38;5;241m255\u001b[39m \u001b[38;5;28;01mif\u001b[39;00m np\u001b[38;5;241m.\u001b[39missubdtype(A\u001b[38;5;241m.\u001b[39mdtype, np\u001b[38;5;241m.\u001b[39minteger) \u001b[38;5;28;01melse\u001b[39;00m \u001b[38;5;241m1\u001b[39m\n",
      "\u001b[0;31mTypeError\u001b[0m: Invalid shape (740, 740, 740) for image data"
     ]
    },
    {
     "data": {
      "image/png": "[encoded data removed]",
      "text/plain": [
       "<Figure size 640x480 with 1 Axes>"
      ]
     },
     "metadata": {},
     "output_type": "display_data"
    }
   ],
   "source": [
    "plt.imshow(fisher_matrix, cmap='RdBu_r')\n",
    "plt.colorbar()\n",
    "plt.show()"
   ]
  },
  {
   "cell_type": "markdown",
   "metadata": {},
   "source": [
    "# Set up Log Likelihood Function"
   ]
  },
  {
   "cell_type": "code",
   "execution_count": 14,
   "metadata": {},
   "outputs": [],
   "source": [
    "# a normal distribution\n",
    "from jax.scipy.stats.norm import logpdf as normal_logpdf\n",
    "\n",
    "# a poisson distribution\n",
    "from jax.scipy.stats.poisson import logpmf as poisson_logpmf"
   ]
  }
 ],
 "metadata": {
  "kernelspec": {
   "display_name": "jaxenv",
   "language": "python",
   "name": "python3"
  },
  "language_info": {
   "codemirror_mode": {
    "name": "ipython",
    "version": 3
   },
   "file_extension": ".py",
   "mimetype": "text/x-python",
   "name": "python",
   "nbconvert_exporter": "python",
   "pygments_lexer": "ipython3",
   "version": "3.10.0"
  }
 },
 "nbformat": 4,
 "nbformat_minor": 2
}
