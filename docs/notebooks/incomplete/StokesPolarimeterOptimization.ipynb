{
 "cells": [
  {
   "cell_type": "code",
   "execution_count": 1,
   "metadata": {},
   "outputs": [],
   "source": [
    "from jax import value_and_grad\n",
    "import numpy as tnp\n",
    "from katsu.katsu_math import np, set_backend_to_jax\n",
    "from katsu.mueller import linear_retarder, linear_polarizer, _empty_mueller\n",
    "from katsu.polarimetry import drrp_data_reduction_matrix, condition_number"
   ]
  },
  {
   "cell_type": "code",
   "execution_count": 2,
   "metadata": {},
   "outputs": [],
   "source": [
    "lp_angle = 0\n",
    "wp_retardance = np.sqrt(3) * 2 * np.pi #np.pi / 2\n",
    "# set_backend_to_jax()\n",
    "\n",
    "def identity_matrix(shape):\n",
    "\n",
    "    mueller = _empty_mueller(shape)\n",
    "    for i in range(4):\n",
    "        for j in range(4):\n",
    "            if i == j :\n",
    "\n",
    "                if np.__name__ == \"jax.numpy\":\n",
    "                    mueller = mueller.at[..., i, j].set(1.)\n",
    "                else:\n",
    "                    mueller[..., i, j] = 1.\n",
    "    return mueller\n",
    "\n",
    "def forward(x):\n",
    "    \"\"\"_summary_\n",
    "\n",
    "    Parameters\n",
    "    ----------\n",
    "    x : ndarray len 4\n",
    "        angles in radians for optimal measurement set\n",
    "    \"\"\"\n",
    "\n",
    "    NMEAS = 4\n",
    "\n",
    "    wvp = linear_retarder(x, wp_retardance, shape=[NMEAS])\n",
    "    pol = linear_polarizer(lp_angle, shape=[NMEAS])\n",
    "    PSA = pol @ wvp\n",
    "\n",
    "    PSG = identity_matrix(shape=[NMEAS])\n",
    "    Winv = drrp_data_reduction_matrix(PSG, PSA, invert=False)\n",
    "    # Winv = PSA[...,0,:]\n",
    "    cond = condition_number(Winv)\n",
    "\n",
    "    return cond\n",
    "\n",
    "loss_fg = value_and_grad(forward)"
   ]
  },
  {
   "cell_type": "code",
   "execution_count": 7,
   "metadata": {},
   "outputs": [],
   "source": [
    "from scipy.optimize import minimize\n",
    "\n",
    "results = minimize(forward, x0=np.random.random([4]), method='L-BFGS-B', jac=False)\n",
    "# print(results)"
   ]
  },
  {
   "cell_type": "code",
   "execution_count": 8,
   "metadata": {},
   "outputs": [
    {
     "name": "stdout",
     "output_type": "stream",
     "text": [
      "[-45.54256551  30.0149666   59.98490176   0.1316377 ]\n"
     ]
    }
   ],
   "source": [
    "print(np.degrees(results.x))"
   ]
  },
  {
   "cell_type": "code",
   "execution_count": null,
   "metadata": {},
   "outputs": [],
   "source": []
  }
 ],
 "metadata": {
  "kernelspec": {
   "display_name": "base",
   "language": "python",
   "name": "python3"
  },
  "language_info": {
   "codemirror_mode": {
    "name": "ipython",
    "version": 3
   },
   "file_extension": ".py",
   "mimetype": "text/x-python",
   "name": "python",
   "nbconvert_exporter": "python",
   "pygments_lexer": "ipython3",
   "version": "3.12.7"
  }
 },
 "nbformat": 4,
 "nbformat_minor": 2
}
