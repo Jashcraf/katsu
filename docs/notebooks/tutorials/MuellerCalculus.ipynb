{
 "cells": [
  {
   "cell_type": "markdown",
   "metadata": {},
   "source": [
    "# Intro to Mueller Calculus\n",
    "\n",
    "_Written by Jaren N. Ashcraft_\n",
    "\n",
    "This tutorial reviews Mueller Calculus in brief, though we refer the reader to Chapters 3 and 6 _Polarized Light and Optical Systems_ by Chipman, Lam, and Young for a more comprehensive tutorial.\n",
    "\n",
    "Mueller Calculus is a $4 \\times 4$ matrix calculus that traces the polarization state of light. In contrast to Jones calculus, which keeps track of the complex amplitudes of the electric field; Mueller calculus tracks the polarization of light in terms of power, or the squared modulus of the electric field. This power is described by the _Stokes Vector_ $\\mathbf{s}$,\n",
    "\n",
    "$$\\mathbf{s} = [I, Q, U, V] = [S_{0}, S_{1}, S_{2}, S_{3}].$$\n",
    "\n",
    "$\\mathbf{s}$ is a 4-vector that contains the _Stokes parameters_ that describe the polarization of light. Intuitively, the parameters can be described by a set of measurements made using the following six power measurements:\n",
    "\n",
    " - $P_{H}$: A power measurement made with a linear polarizer oriented at $0^{\\circ}$\n",
    " - $P_{V}$: A power measurement made with a linear polarizer oriented at $90^{\\circ}$\n",
    " - $P_{+}$: A power measurement made with a linear polarizer oriented at $45^{\\circ}$\n",
    " - $P_{-}$: A power measurement made with a linear polarizer oriented at $135^{\\circ}$\n",
    " - $P_{R}$: A power measurement made with a right-circular polarizer\n",
    " - $P_{L}$: A power measurement made with a left-circular polarizer\n",
    "\n",
    "From these measurements, the Stokes parameters are defined as follows:\n",
    "\n",
    "$$\n",
    "\\mathbf{s} = \n",
    "\\begin{pmatrix}\n",
    "I \\\\\n",
    "Q \\\\\n",
    "U \\\\\n",
    "V \\\\\n",
    "\\end{pmatrix}\n",
    "=\n",
    "\\begin{pmatrix}\n",
    "P_{H} + P_{V} \\\\\n",
    "P_{H} - P_{V} \\\\\n",
    "P_{+} - P_{-} \\\\\n",
    "P_{R} - P_{L} \\\\\n",
    "\\end{pmatrix}\n",
    "$$\n",
    "\n",
    "What this means is that $I$ describes the total unpolarized power in the system, $Q$ is the degree of linear polarization along $0^{\\circ}$ and $90^{\\circ}$, $U$ is the degree of linear polarization along $45^{\\circ}$ and $135^{\\circ}$, and $V$ is the degree of circular polarization. In `katsu`, we treat the Stokes vector as a simple array of vectors."
   ]
  },
  {
   "cell_type": "code",
   "execution_count": null,
   "metadata": {},
   "outputs": [
    {
     "name": "stdout",
     "output_type": "stream",
     "text": [
      "s =  [[ 1.    0.    0.25 -0.2 ]]\n"
     ]
    }
   ],
   "source": [
    "from katsu.mueller import stokes_from_parameters\n",
    "\n",
    "s = stokes_from_parameters(1, 0, 0.25, -0.2)\n",
    "print('s = ',s.T)"
   ]
  },
  {
   "cell_type": "markdown",
   "metadata": {},
   "source": [
    "We do this because it enables the initialization of an array of Stokes parameters, which can be done by supplying a `shape` keyword."
   ]
  },
  {
   "cell_type": "code",
   "execution_count": null,
   "metadata": {},
   "outputs": [
    {
     "name": "stdout",
     "output_type": "stream",
     "text": [
      "array of stokes shape =  (32, 32, 4, 1)\n"
     ]
    }
   ],
   "source": [
    "s = stokes_from_parameters(1, 0, 0.25, -0.2, shape=[32, 32])\n",
    "print('array of stokes shape = ', s.shape)"
   ]
  },
  {
   "cell_type": "markdown",
   "metadata": {},
   "source": [
    "This is done so that we can perform operations on Stokes images, which are generally 3D arrays. Below we show an example of such a homogeneous stokes image."
   ]
  },
  {
   "cell_type": "code",
   "execution_count": 39,
   "metadata": {},
   "outputs": [
    {
     "data": {
      "image/png": "[encoded data removed]",
      "text/plain": [
       "<Figure size 1200x300 with 5 Axes>"
      ]
     },
     "metadata": {},
     "output_type": "display_data"
    }
   ],
   "source": [
    "import matplotlib.pyplot as plt\n",
    "\n",
    "def plot_stokes(s):\n",
    "\n",
    "    titles = ['I', 'Q', 'U', 'V']\n",
    "    fig, axs = plt.subplots(figsize=[12,3],ncols=4)\n",
    "    for i, ax in enumerate(axs):\n",
    "        im = ax.imshow(s[...,i,0], vmin=-1, vmax=1, cmap='RdBu_r')\n",
    "        ax.set_title(titles[i])\n",
    "    fig.colorbar(im, ax=axs)\n",
    "    plt.show()\n",
    "\n",
    "plot_stokes(s)"
   ]
  },
  {
   "cell_type": "markdown",
   "metadata": {},
   "source": [
    "A $4 \\times 1$ vector requires a corresponding $4 \\times 4$ matrix operator in order to perform transformations on the vector. The operators on Stokes vectors are called _Mueller Matrices_, and take the following form:\n",
    "\n",
    "$$\n",
    "\\begin{pmatrix}\n",
    "M_{I\\rightarrow I} & M_{Q\\rightarrow I} & M_{U\\rightarrow I} & M_{V\\rightarrow I} \\\\\n",
    "M_{I\\rightarrow Q} & M_{Q\\rightarrow Q} & M_{U\\rightarrow Q} & M_{V\\rightarrow Q} \\\\\n",
    "M_{I\\rightarrow U} & M_{Q\\rightarrow U} & M_{U\\rightarrow U} & M_{V\\rightarrow U} \\\\\n",
    "M_{I\\rightarrow V} & M_{Q\\rightarrow V} & M_{U\\rightarrow V} & M_{V\\rightarrow V} \\\\\n",
    "\\end{pmatrix}\n",
    "\\begin{pmatrix}\n",
    "I \\\\\n",
    "Q \\\\\n",
    "U \\\\\n",
    "V \\\\\n",
    "\\end{pmatrix}\n",
    "=\n",
    "\\begin{pmatrix}\n",
    "I' \\\\\n",
    "Q' \\\\\n",
    "U' \\\\\n",
    "V' \\\\\n",
    "\\end{pmatrix}.\n",
    "$$\n",
    "\n",
    "Here the subscripts are of the form $A \\rightarrow B$, where $A$ is the Stokes parameter before transformation and $B$ is the Stokes parameter after transformation. The \"transformation\" is a simple matrix multiplication. Mueller matrices are also available in `katsu`. Below we show an example of a linear polarizer oriented at $0^{\\circ}$, or a \"horizontal\" polarizer that only passes the $Q$ parameter."
   ]
  },
  {
   "cell_type": "code",
   "execution_count": null,
   "metadata": {},
   "outputs": [
    {
     "name": "stdout",
     "output_type": "stream",
     "text": [
      "Horizontal Polarizer\n",
      "[[0.5 0.5 0.  0. ]\n",
      " [0.5 0.5 0.  0. ]\n",
      " [0.  0.  0.  0. ]\n",
      " [0.  0.  0.  0. ]]\n"
     ]
    }
   ],
   "source": [
    "from katsu.mueller import linear_polarizer\n",
    "\n",
    "horizontal_polarizer = linear_polarizer(0)\n",
    "print('Horizontal Polarizer')\n",
    "print(horizontal_polarizer)"
   ]
  },
  {
   "cell_type": "markdown",
   "metadata": {},
   "source": [
    "Simmilarly, `katsu`'s Mueller matrices take a `shape` keyword to initialize them as an array, which we perform below."
   ]
  },
  {
   "cell_type": "code",
   "execution_count": 41,
   "metadata": {},
   "outputs": [
    {
     "name": "stdout",
     "output_type": "stream",
     "text": [
      "polarizer shape =  (32, 32, 4, 4)\n"
     ]
    }
   ],
   "source": [
    "horizontal_polarizer = linear_polarizer(0, shape=[32, 32])\n",
    "print('polarizer shape = ', horizontal_polarizer.shape)"
   ]
  },
  {
   "cell_type": "markdown",
   "metadata": {},
   "source": [
    "Herein lies the reason why the matrix elements are packed into the final two dimensions of the array. Because both the Stokes vector and Mueller matrices are constructed in this way, we can take advantage of `numpy`'s broadcasted matrix multiplication to perform the operation. Below we use the matrix multiplication operator `@` to perform the operation."
   ]
  },
  {
   "cell_type": "code",
   "execution_count": 42,
   "metadata": {},
   "outputs": [
    {
     "data": {
      "image/png": "[encoded data removed]",
      "text/plain": [
       "<Figure size 1200x300 with 5 Axes>"
      ]
     },
     "metadata": {},
     "output_type": "display_data"
    }
   ],
   "source": [
    "stokes_out = horizontal_polarizer @ s\n",
    "plot_stokes(stokes_out)"
   ]
  },
  {
   "cell_type": "markdown",
   "metadata": {},
   "source": [
    "This is one of `katsu`'s main features. All of the calculations are set up to take advantage of broadcasted matrix calculations so that there is no need to loop over images. Other polarizing elements, such as diattenuators and retarders, also exist in `katsu.mueller`, but will be showcased in a different demo. "
   ]
  }
 ],
 "metadata": {
  "kernelspec": {
   "display_name": "katsudev",
   "language": "python",
   "name": "python3"
  },
  "language_info": {
   "codemirror_mode": {
    "name": "ipython",
    "version": 3
   },
   "file_extension": ".py",
   "mimetype": "text/x-python",
   "name": "python",
   "nbconvert_exporter": "python",
   "pygments_lexer": "ipython3",
   "version": "3.10.14"
  }
 },
 "nbformat": 4,
 "nbformat_minor": 2
}
