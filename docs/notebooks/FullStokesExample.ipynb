{
 "cells": [
  {
   "cell_type": "code",
   "execution_count": 1,
   "metadata": {},
   "outputs": [],
   "source": [
    "from katsu.polarimetry import full_stokes_polarimetry\n",
    "from katsu.mueller import linear_polarizer,linear_retarder\n",
    "import numpy as np\n",
    "import matplotlib.pyplot as plt"
   ]
  },
  {
   "attachments": {},
   "cell_type": "markdown",
   "metadata": {},
   "source": [
    "# Single Rotating Retarder Stokes Polarimetry\n",
    "Stokes polarimetry is a little more simple than full mueller matrices, but the procedure is very much the same. We will use the Single Rotating Retarder Stokes Polarimeter (SRRP). This consists of\n",
    "- a source with some polarization state\n",
    "- a quarter-wave plate that can rotate\n",
    "- a linear polarizer at a fixed angle\n",
    "- a detector to measure power\n",
    "\n",
    "We will be rotating the quarter wave plate in steps of $\\delta\\theta$ over a range to span the poincare sphere to sample all of the possible responses of power on our detector. To know the Stokes vector, we must take a minimum of 4 measurements. These work out analytically to be the vertices of a tetrahedron inscribed in the poincare sphere, but to make it easier we will generalize the polarimeter to N measurements.\n",
    "\n",
    "For each measurement, we step the QWP by some angle $\\delta\\theta$ and record the power on our detector. It turns out that the power we observe should follow a sinusoid of 4 frequencies*.\n",
    "\n",
    "$$P \\propto a_{0} + a_{2}sin(2\\theta) + a_{4}cos(4\\theta) + b_{4}cos(4\\theta)$$\n",
    "\n",
    "We simply record the power change, and use optimization to curve fit our results to $P$. The stokes vector can be expressed in terms of these coefficients.\n",
    "\n",
    "$$I = 2(a_{0}-a_{4})$$\n",
    "$$Q = 4a_{4}$$\n",
    "$$U = 4b_{4}$$\n",
    "$$V = -2b_{2}$$\n",
    "\n",
    "Here we show a demo of how to use the katsu.full_stokes_polarimetry function to reduce the data.\n",
    "\n",
    "*depending on what you consider a frequency this could be 2-4. Semantics I say! There are 4 terms we care about!"
   ]
  },
  {
   "cell_type": "code",
   "execution_count": 2,
   "metadata": {},
   "outputs": [
    {
     "name": "stdout",
     "output_type": "stream",
     "text": [
      "[0.5588569  0.35077517 0.93880784 0.53997475]\n"
     ]
    }
   ],
   "source": [
    "# First we begin with a simulated dataset and provide the function with a stokes vector\n",
    "thetas = np.linspace(0,np.pi,10)\n",
    "S_to_measure = np.random.random(4)\n",
    "print(S_to_measure)"
   ]
  },
  {
   "cell_type": "code",
   "execution_count": 3,
   "metadata": {},
   "outputs": [
    {
     "name": "stdout",
     "output_type": "stream",
     "text": [
      "Stokes Vector Measured\n",
      "[0.5588569  0.35077517 0.93880784 0.53997475]\n",
      "Percent Difference\n",
      "[-1.98659624e-14  1.58252797e-14  1.18258815e-14  0.00000000e+00]\n"
     ]
    }
   ],
   "source": [
    "S_out = full_stokes_polarimetry(thetas,Sin=S_to_measure)\n",
    "print('Stokes Vector Measured')\n",
    "print(S_out)\n",
    "print('Percent Difference')\n",
    "print(100*(S_to_measure-S_out)/S_to_measure)"
   ]
  },
  {
   "attachments": {},
   "cell_type": "markdown",
   "metadata": {},
   "source": [
    "Fantastic, the internal simulator appears to work. Now let's try it out with a real dataset."
   ]
  },
  {
   "cell_type": "code",
   "execution_count": 4,
   "metadata": {},
   "outputs": [
    {
     "data": {
      "image/png": "[encoded data removed]",
      "text/plain": [
       "<Figure size 432x288 with 1 Axes>"
      ]
     },
     "metadata": {
      "needs_background": "light"
     },
     "output_type": "display_data"
    }
   ],
   "source": [
    "power_matrix = np.zeros_like(thetas)\n",
    "\n",
    "# this is like building the W matrix\n",
    "for i,angle in enumerate(thetas):\n",
    "    PSA = linear_polarizer(0) @ linear_retarder(angle,np.pi/2)\n",
    "    power_matrix[i] = (PSA[0,:] @ S_to_measure)\n",
    "\n",
    "plt.style.use('bmh')\n",
    "plt.figure()\n",
    "plt.title('Power observed')\n",
    "plt.plot(thetas,power_matrix)\n",
    "plt.xlabel('waveplate angle [rad]')\n",
    "plt.ylabel('Power [A.U.]')\n",
    "plt.show()"
   ]
  },
  {
   "attachments": {},
   "cell_type": "markdown",
   "metadata": {},
   "source": [
    "We can next pass the power to `full_stokes_polarimetry` instead of a stokes vector to perform a real measurement!"
   ]
  },
  {
   "cell_type": "code",
   "execution_count": 6,
   "metadata": {},
   "outputs": [
    {
     "name": "stdout",
     "output_type": "stream",
     "text": [
      "Stokes Vector Measured\n",
      "[0.5588569  0.35077517 0.93880784 0.53997475]\n",
      "Percent Difference\n",
      "[-1.98659624e-14  1.58252797e-14  1.18258815e-14  0.00000000e+00]\n"
     ]
    }
   ],
   "source": [
    "S_out = full_stokes_polarimetry(thetas,power=power_matrix)\n",
    "print('Stokes Vector Measured')\n",
    "print(S_out)\n",
    "print('Percent Difference')\n",
    "print(100*(S_to_measure-S_out)/S_to_measure)"
   ]
  },
  {
   "attachments": {},
   "cell_type": "markdown",
   "metadata": {},
   "source": [
    "Fantastic! Stokes polarimetry works!"
   ]
  }
 ],
 "metadata": {
  "kernelspec": {
   "display_name": "base",
   "language": "python",
   "name": "python3"
  },
  "language_info": {
   "codemirror_mode": {
    "name": "ipython",
    "version": 3
   },
   "file_extension": ".py",
   "mimetype": "text/x-python",
   "name": "python",
   "nbconvert_exporter": "python",
   "pygments_lexer": "ipython3",
   "version": "3.8.8"
  },
  "orig_nbformat": 4
 },
 "nbformat": 4,
 "nbformat_minor": 2
}
