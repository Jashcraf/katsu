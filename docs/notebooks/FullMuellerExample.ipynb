{
 "cells": [
  {
   "cell_type": "code",
   "execution_count": 1,
   "metadata": {},
   "outputs": [],
   "source": [
    "from katsu.polarimetry import full_mueller_polarimetry\n",
    "from katsu.mueller import linear_polarizer,linear_retarder\n",
    "import numpy as np"
   ]
  },
  {
   "attachments": {},
   "cell_type": "markdown",
   "metadata": {},
   "source": [
    "# Dual Rotating Retarder Mueller Polarimetry\n",
    "In order to measure how a system transforms the polarization state of light, we can measure the system's Mueller Matrix. There are a host of different methods by which we can do so. In this tutorial, we review the popular Dual Rotating Retarder Polarimeter (DRRP) for full Mueller matrix polarimetry. This consists of:\n",
    "\n",
    "- a source\n",
    "- a linear polarizer at a fixed angle\n",
    "- a quarter-wave plate that can rotate\n",
    "- the system you are trying to measure the mueller matrix of\n",
    "- a quarter-wave plate that can rotate\n",
    "- a linear polarizer at a fixed angle\n",
    "- a detector to measure power\n",
    "\n",
    "The theory of this polarimeter is covered in Chipman, and also Azzam, but is reproduced in brief here. Our first polarizer/waveplate pair forms our *polarization state generator* (PSG). The latter pair forms our *polarization state analyzer* (PSA). The first waveplate must rotate $N_{meas} > 16$ times at some angular step size $\\delta\\theta$ to completely determine the Mueller matrix. The second waveplate must also rotate $N_{meas}$ times, but at five times the step size $5\\delta\\theta$.\n",
    "\n",
    "For each $\\delta\\theta$ we record the power on the detector. We next must understand that detectors can only measure power! This means, that it effectively measures the first row of the PSA matrix and the first column of the PSG matrix. The reason for that is revealed in the Mueller calculus, which I've left as an exercise to the reader below*\n",
    "\n",
    "$$\\mathbf{S}_{out} = [\\mathbf{PSA}] \\mathbf{M}_{system} [\\mathbf{PSG}] \\mathbf{S_{0}}$$\n",
    "\n",
    "For each measurement iteration we compute our PSA and PSG, and then store those results in our polarimetric data reduction matrix $\\mathbf{W}$. This is an $N_{meas} \\times 16$ matrix that contains what our PSA and PSG are doing. $\\mathbf{W}$ is given by:\n",
    "\n",
    "$$\\mathbf{W} = [\\mathbf{PSA}_{0,j}] \\otimes [\\mathbf{PSG}_{i,0}]$$\n",
    "\n",
    "Where $i,j$ are the row and column indices, respectively, and $\\otimes$ is the Kronecker product. For each measurement, we record the power on the detector and store it in a vector that is $N_{meas}$ long, called $\\mathbf{P}$, and we computpe the unraveled Mueller matrix using the following relation:\n",
    "\n",
    "$$\\mathbf{M}_{meas} = \\mathbf{W}^{-1}\\mathbf{P}$$\n",
    "\n",
    "For the case where $N_{meas} > 16$, you must use the moore-penrose pseudo inverse to invert $\\mathbf{W}$. Now that the theory is out of the way, let's test it out! We begin by constructing a random Mueller matrix composed of a polarizer and retarder:\n",
    "\n",
    "*aren't I the worst?"
   ]
  },
  {
   "cell_type": "code",
   "execution_count": 2,
   "metadata": {},
   "outputs": [
    {
     "data": {
      "text/plain": [
       "array([[ 0.5       ,  0.09029522,  0.49177919,  0.        ],\n",
       "       [ 0.11102659,  0.02005034,  0.10920113,  0.        ],\n",
       "       [ 0.48566558,  0.08770656,  0.47768045,  0.        ],\n",
       "       [-0.0424505 , -0.00766615, -0.04175255,  0.        ]])"
      ]
     },
     "metadata": {},
     "output_type": "display_data"
    }
   ],
   "source": [
    "M_to_measure = linear_retarder(np.random.random(),np.random.random()) @ linear_polarizer(np.random.random())\n",
    "display(M_to_measure)"
   ]
  },
  {
   "attachments": {},
   "cell_type": "markdown",
   "metadata": {},
   "source": [
    "## Performing a simulated measurement\n",
    "In `katsu.polarimetry` we have  This mode of `full_mueller_polarimetry` uses an internal simulator where the Mueller matrix is known, and is largely useful for 1) making sure the algorithm works and 2) testing the theoretical limits of the technique. We can provide it with the matrix above and it carries out the method described earlier. Let's see how it does! We begin with the minimum number of measurements, 16."
   ]
  },
  {
   "cell_type": "code",
   "execution_count": 3,
   "metadata": {},
   "outputs": [
    {
     "ename": "TypeError",
     "evalue": "full_mueller_polarimetry() missing 2 required positional arguments: 'power' and 'angular_increment'",
     "output_type": "error",
     "traceback": [
      "\u001b[0;31m---------------------------------------------------------------------------\u001b[0m",
      "\u001b[0;31mTypeError\u001b[0m                                 Traceback (most recent call last)",
      "Cell \u001b[0;32mIn[3], line 3\u001b[0m\n\u001b[1;32m      1\u001b[0m \u001b[38;5;66;03m# katsu has a simulator built-in, so let's try use that\u001b[39;00m\n\u001b[1;32m      2\u001b[0m thetas \u001b[38;5;241m=\u001b[39m np\u001b[38;5;241m.\u001b[39mlinspace(\u001b[38;5;241m0\u001b[39m,np\u001b[38;5;241m.\u001b[39mpi,\u001b[38;5;241m16\u001b[39m) \u001b[38;5;66;03m# 16 measurements between 0 and pi\u001b[39;00m\n\u001b[0;32m----> 3\u001b[0m M_out \u001b[38;5;241m=\u001b[39m full_mueller_polarimetry(thetas,Min\u001b[38;5;241m=\u001b[39mM_to_measure)\n",
      "\u001b[0;31mTypeError\u001b[0m: full_mueller_polarimetry() missing 2 required positional arguments: 'power' and 'angular_increment'"
     ]
    }
   ],
   "source": [
    "# katsu has a simulator built-in, so let's try use that\n",
    "thetas = np.linspace(0,np.pi,16) # 16 measurements between 0 and pi\n",
    "M_out = full_mueller_polarimetry(thetas,Min=M_to_measure)"
   ]
  },
  {
   "cell_type": "code",
   "execution_count": 6,
   "metadata": {},
   "outputs": [
    {
     "name": "stdout",
     "output_type": "stream",
     "text": [
      "Mueller Matrix Measured\n",
      "[[ 5.00000000e-01  4.99915695e-01  9.18137207e-03  4.42354486e-16]\n",
      " [ 4.01478997e-01  4.01411304e-01  7.37225609e-03 -1.80411242e-16]\n",
      " [ 1.22914148e-01  1.22893423e-01  2.25704105e-03  1.02348685e-16]\n",
      " [ 2.45828296e-01  2.45786847e-01  4.51408210e-03  1.50053581e-16]]\n",
      "Percent Difference\n",
      "[[ 2.22044605e-14 -1.33249230e-13 -6.63177503e-12            -inf]\n",
      " [-3.73319923e-13 -3.04237902e-13  2.07420731e-11             inf]\n",
      " [-5.18900596e+02 -5.18900596e+02 -5.18900596e+02            -inf]\n",
      " [ 1.73284381e+01  1.73284381e+01  1.73284381e+01            -inf]]\n"
     ]
    },
    {
     "name": "stderr",
     "output_type": "stream",
     "text": [
      "<ipython-input-6-f26d43f49149>:4: RuntimeWarning: divide by zero encountered in divide\n",
      "  print(100*(M_to_measure-M_out)/M_to_measure)\n"
     ]
    }
   ],
   "source": [
    "print('Mueller Matrix Measured')\n",
    "print(M_out)\n",
    "print('Percent Difference')\n",
    "print(100*(M_to_measure-M_out)/M_to_measure)"
   ]
  },
  {
   "attachments": {},
   "cell_type": "markdown",
   "metadata": {},
   "source": [
    "Pardon the rightmost column blowing up, but those were all zeros anyway. We successfully recover some of the information for the top two rows but not the bottom, can this be fixed with more measurements?"
   ]
  },
  {
   "cell_type": "code",
   "execution_count": 7,
   "metadata": {},
   "outputs": [
    {
     "name": "stdout",
     "output_type": "stream",
     "text": [
      "Mueller Matrix Measured\n",
      "[[ 5.00000000e-01  4.99915695e-01  9.18137207e-03 -3.33066907e-16]\n",
      " [ 4.01478997e-01  4.01411304e-01  7.37225609e-03  3.33066907e-16]\n",
      " [ 1.98600791e-02  1.98567305e-02  3.64685551e-04 -4.16333634e-16]\n",
      " [ 2.97355330e-01  2.97305193e-01  5.46025985e-03  1.80411242e-16]]\n",
      "Percent Difference\n",
      "[[ 8.88178420e-14 -7.77287175e-14  6.23500217e-13             inf]\n",
      " [-2.07399957e-13  1.93605937e-13 -2.74482453e-11            -inf]\n",
      " [-1.44996450e-12  1.85207417e-12 -1.28908332e-10             inf]\n",
      " [ 5.60048658e-14  5.60143103e-14  4.08244246e-12            -inf]]\n"
     ]
    },
    {
     "name": "stderr",
     "output_type": "stream",
     "text": [
      "<ipython-input-7-0dd24482ebfc>:7: RuntimeWarning: divide by zero encountered in divide\n",
      "  print(100*(M_to_measure-M_out)/M_to_measure)\n"
     ]
    }
   ],
   "source": [
    "# katsu has a simulator built-in, so let's try use that\n",
    "thetas = np.linspace(0,np.pi,24) # 24 measurements between 0 and pi\n",
    "M_out = full_mueller_polarimetry(thetas,Min=M_to_measure)\n",
    "print('Mueller Matrix Measured')\n",
    "print(M_out)\n",
    "print('Percent Difference')\n",
    "print(100*(M_to_measure-M_out)/M_to_measure)"
   ]
  },
  {
   "attachments": {},
   "cell_type": "markdown",
   "metadata": {},
   "source": [
    "Indeed it can! Experimentally I've found that 24 is a good minimum number of measurements to get accurate measurements of the mueller matrix. But you shouldn't trust me yet. Let's start by actually generating a fake dataset."
   ]
  },
  {
   "cell_type": "code",
   "execution_count": 8,
   "metadata": {},
   "outputs": [
    {
     "data": {
      "image/png": "[encoded data removed]",
      "text/plain": [
       "<Figure size 432x288 with 1 Axes>"
      ]
     },
     "metadata": {
      "needs_background": "light"
     },
     "output_type": "display_data"
    }
   ],
   "source": [
    "power_matrix = np.zeros_like(thetas)\n",
    "\n",
    "# this is like building the W matrix\n",
    "for i,angle in enumerate(thetas):\n",
    "    PSG = linear_retarder(angle,np.pi/2) @ linear_polarizer(0)\n",
    "    PSA = linear_polarizer(0) @ linear_retarder(angle*5,np.pi/2)\n",
    "    power_matrix[i] = (PSA[0,:] @ M_to_measure @ PSG[:,0])\n",
    "\n",
    "import matplotlib.pyplot as plt\n",
    "plt.style.use('bmh')\n",
    "plt.figure()\n",
    "plt.title('Power observed')\n",
    "plt.plot(thetas,power_matrix)\n",
    "plt.xlabel('waveplate angle [rad]')\n",
    "plt.ylabel('Power [A.U.]')\n",
    "plt.show()"
   ]
  },
  {
   "attachments": {},
   "cell_type": "markdown",
   "metadata": {},
   "source": [
    "Here we can see the observed power as we sweep through the retarder rotation. Instead of providing `full_mueller_polarimetry` with a known mueller matrix, we can just pass it the data that contains the power recorded and let the algorithm figure it out! The result is shown below."
   ]
  },
  {
   "cell_type": "code",
   "execution_count": 9,
   "metadata": {},
   "outputs": [
    {
     "name": "stdout",
     "output_type": "stream",
     "text": [
      "Mueller Matrix Measured\n",
      "[[ 5.00000000e-01  4.99915695e-01  9.18137207e-03 -3.33066907e-16]\n",
      " [ 4.01478997e-01  4.01411304e-01  7.37225609e-03  3.33066907e-16]\n",
      " [ 1.98600791e-02  1.98567305e-02  3.64685551e-04 -4.16333634e-16]\n",
      " [ 2.97355330e-01  2.97305193e-01  5.46025985e-03  1.80411242e-16]]\n",
      "Percent Difference\n",
      "[[ 8.88178420e-14 -7.77287175e-14  6.23500217e-13             inf]\n",
      " [-2.07399957e-13  1.93605937e-13 -2.74482453e-11            -inf]\n",
      " [-1.44996450e-12  1.85207417e-12 -1.28908332e-10             inf]\n",
      " [ 5.60048658e-14  5.60143103e-14  4.08244246e-12            -inf]]\n"
     ]
    },
    {
     "name": "stderr",
     "output_type": "stream",
     "text": [
      "<ipython-input-9-813888664ba5>:5: RuntimeWarning: divide by zero encountered in divide\n",
      "  print(100*(M_to_measure-M_out)/M_to_measure)\n"
     ]
    }
   ],
   "source": [
    "M_out = full_mueller_polarimetry(thetas,power=power_matrix)\n",
    "print('Mueller Matrix Measured')\n",
    "print(M_out)\n",
    "print('Percent Difference')\n",
    "print(100*(M_to_measure-M_out)/M_to_measure)"
   ]
  },
  {
   "attachments": {},
   "cell_type": "markdown",
   "metadata": {},
   "source": [
    "Success! We can use this algorithm to measure the Mueller matrix of a given detector. At the moment this is a per-pixel calculation, but this can be generalized to N pixels by looping over the pixel index. Broadcasting the calculation is trivial, I just haven't implemented it yet."
   ]
  },
  {
   "attachments": {},
   "cell_type": "markdown",
   "metadata": {},
   "source": [
    "## Discussion\n",
    "We've illustrated the basics of DRRP's and how we can use katsu** to process the data to get a mueller matrix out. There are some limits to what we can do with the existing codebase however, because it is not written for the most general case. A list of assumptions are included below:\n",
    "- 1) Katsu assumes that the mueller matrix is measured w.r.t. the axis of the linear polarizers as horizontal\n",
    "- 2) Katsu assumes that the linear polarizers are parallel\n",
    "- 3) Katsu assumes that the fast-axis of the quarter-wave plates begin parallel to the polarizers\n",
    "- 4) Katsu operates on scalar powers, meaning that it can only presently process one pixel at a time"
   ]
  },
  {
   "cell_type": "markdown",
   "metadata": {},
   "source": []
  }
 ],
 "metadata": {
  "kernelspec": {
   "display_name": "Python 3",
   "language": "python",
   "name": "python3"
  },
  "language_info": {
   "codemirror_mode": {
    "name": "ipython",
    "version": 3
   },
   "file_extension": ".py",
   "mimetype": "text/x-python",
   "name": "python",
   "nbconvert_exporter": "python",
   "pygments_lexer": "ipython3",
   "version": "3.11.5"
  },
  "orig_nbformat": 4
 },
 "nbformat": 4,
 "nbformat_minor": 2
}
