{
 "cells": [
  {
   "cell_type": "markdown",
   "metadata": {},
   "source": [
    "# Installation\n",
    "\n",
    "Katsu may be installed via PyPI\n",
    "\n",
    "```bash\n",
    "pip install katsu --upgrade\n",
    "```\n",
    "\n",
    "Or by cloning [the Katsu repository on Github](https://github.com/Jashcraf/katsu)\n",
    "\n",
    "```bash\n",
    "git clone https://github.com/Jashcraf/katsu\n",
    "```\n",
    "\n",
    "# Running Automated Testing\n",
    "To run Katsu's automated tests, navigate to your clone of the Katsu repository and run \n",
    "\n",
    "```bash\n",
    "pytest tests/\n",
    "```\n",
    "\n",
    "## Requirements\n",
    "- Python 3.8+\n",
    "- Numpy\n",
    "- Scipy\n",
    "- pyserial"
   ]
  }
 ],
 "metadata": {
  "language_info": {
   "name": "python"
  }
 },
 "nbformat": 4,
 "nbformat_minor": 2
}
