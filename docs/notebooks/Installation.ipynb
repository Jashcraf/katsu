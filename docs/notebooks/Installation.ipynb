{
 "cells": [
  {
   "cell_type": "markdown",
   "metadata": {},
   "source": [
    "# Installation\n",
    "\n",
    "Katsu may be installed via PyPI\n",
    "\n",
    "```bash\n",
    "pip install katsu --upgrade\n",
    "```\n",
    "\n",
    "Or by cloning [the Katsu repository on Github](https://github.com/Jashcraf/katsu)\n",
    "\n",
    "```bash\n",
    "git clone https://github.com/Jashcraf/katsu\n",
    "```\n",
    "\n",
    "## Requirements\n",
    "- Python 3.8+\n",
    "- Numpy\n",
    "- Scipy\n",
    "- pyserial"
   ]
  }
 ],
 "metadata": {
  "language_info": {
   "name": "python"
  }
 },
 "nbformat": 4,
 "nbformat_minor": 2
}
