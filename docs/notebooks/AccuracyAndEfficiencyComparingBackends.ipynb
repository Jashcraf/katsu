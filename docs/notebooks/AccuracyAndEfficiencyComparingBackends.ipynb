{
 "cells": [
  {
   "cell_type": "markdown",
   "metadata": {},
   "source": [
    "The purpose of this notebook is to make an easier and more interactive way to compare the capabilities and benchmarks for running the methods with different backends. \n",
    "Currently setup for numpy and jax."
   ]
  },
  {
   "cell_type": "markdown",
   "metadata": {},
   "source": [
    "Import katsu methods for setting backends and methods wishing to be compared"
   ]
  },
  {
   "cell_type": "code",
   "execution_count": null,
   "metadata": {
    "vscode": {
     "languageId": "plaintext"
    }
   },
   "outputs": [],
   "source": [
    "from katsu.katsu_math import set_backend_to_numpy, set_backend_to_jax\n",
    "from katsu.mueller import (\n",
    "    _empty_mueller,\n",
    "    mueller_rotation,\n",
    "    linear_polarizer,\n",
    "    linear_retarder,\n",
    "    linear_diattenuator,\n",
    "    depolarizer,\n",
    "    decompose_diattenuator,\n",
    "    decompose_retarder,\n",
    "    decompose_depolarizer,\n",
    "    mueller_to_jones,\n",
    "    depolarization_index,\n",
    "    retardance_from_mueller,\n",
    "    retardance_parameters_from_mueller,\n",
    "    diattenuation_from_mueller,\n",
    "    diattenuation_parameters_from_mueller\n",
    ")"
   ]
  }
 ],
 "metadata": {
  "language_info": {
   "name": "python"
  }
 },
 "nbformat": 4,
 "nbformat_minor": 2
}
